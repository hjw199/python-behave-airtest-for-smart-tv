{
 "cells": [
  {
   "cell_type": "code",
   "execution_count": 115,
   "metadata": {},
   "outputs": [
    {
     "name": "stdout",
     "output_type": "stream",
     "text": [
      "8.262165194377303\n",
      "/home/zhjs/zzx/main/mygit/app/record_yw/RecordVideo/2020-03-22\n"
     ]
    },
    {
     "data": {
      "text/plain": [
       "datetime.datetime(2020, 4, 12, 1, 26, 46, 61185)"
      ]
     },
     "execution_count": 115,
     "metadata": {},
     "output_type": "execute_result"
    }
   ],
   "source": [
    "import os\n",
    "import sys\n",
    "import time\n",
    "import datetime\n",
    "from threading import Thread\n",
    "import shutil\n",
    "\n",
    "class Cleaner(object):\n",
    "    def __init__(self, targetDir, sizeThre=10, dayThre=20, pollTime=24):\n",
    "        self.targetDir=targetDir\n",
    "        self.sizeThre=sizeThre\n",
    "        self.pollTime=pollTime\n",
    "    \n",
    "    def start(self):\n",
    "        while True:\n",
    "            if self.get_size(self.targetDir)>=self.sizeThre:\n",
    "                self.delete_until_thre(self.targetDir, 0.5*self.sizeThre)\n",
    "            else:\n",
    "                time.sleep(self.pollTime*3600)\n",
    "    \n",
    "    def delete_until_thre(self, targetDir, sizeThre):\n",
    "        if self.get_size(targetDir)>=sizeThre:\n",
    "            oldestDir=self.get_oldest_dir(targetDir)\n",
    "            self.delete(oldestDir)\n",
    "            self.delete_until(targetDir, sizeThre)\n",
    "            \n",
    "    \n",
    "    def get_oldest_dir(self, targetDir):\n",
    "        fileList=os.listdir(targetDir)\n",
    "        oldestN=None\n",
    "        oldestT=None\n",
    "        for name in fileList:\n",
    "            t=self.name2time(name)\n",
    "            if oldestT==None:\n",
    "                oldestN=name\n",
    "                oldestT=t\n",
    "            else:\n",
    "                if t!=None and t<oldestT:\n",
    "                    oldestT=t\n",
    "                    oldestN=name\n",
    "        if oldestN!=None:\n",
    "            oldestN=os.path.join(targetDir, oldestN)\n",
    "        return oldestN\n",
    "    \n",
    "    def name2time(self, name):\n",
    "        try:\n",
    "            t=time.mktime(time.strptime(name,'%Y-%m-%d'))\n",
    "        except:\n",
    "            t = None\n",
    "        return t\n",
    "    \n",
    "    def delete(self, target):\n",
    "        if os.path.exists(target):\n",
    "            if os.path.isdir(target):\n",
    "                shutil.rmtree(target)\n",
    "            else:\n",
    "                os.remove(target)\n",
    "                \n",
    "    def get_size(self, target):\n",
    "        if not os.path.exists(target):\n",
    "            return 0\n",
    "        m=0\n",
    "        if os.path.isdir(target):\n",
    "            fileList=os.listdir(target)\n",
    "            for filename in fileList:\n",
    "                filePath=os.path.join(target,filename)\n",
    "                m=m+self.get_size(filePath)\n",
    "        else:\n",
    "            m=m+os.path.getsize(target)/(1024**3)\n",
    "        return m\n",
    "    \n",
    "#tempDir='/mnt/F/Video/class/cs205/test/黑人开心/video.mp4'\n",
    "tempDir='/home/zhjs/zzx/main/mygit/app/record_yw/RecordVideo/'\n",
    "Cleaner(tempDir,sizeThre=9)\n",
    "datetime.datetime.fromtimestamp(os.path.getmtime(tempDir))"
   ]
  },
  {
   "cell_type": "code",
   "execution_count": 97,
   "metadata": {},
   "outputs": [
    {
     "data": {
      "text/plain": [
       "86400.0"
      ]
     },
     "execution_count": 97,
     "metadata": {},
     "output_type": "execute_result"
    }
   ],
   "source": [
    "t0=time.mktime(time.strptime('2020-03-03','%Y-%m-%d'))\n",
    "t1=time.mktime(time.strptime('2020-03-04','%Y-%m-%d'))\n",
    "t1-t0"
   ]
  },
  {
   "cell_type": "code",
   "execution_count": 43,
   "metadata": {},
   "outputs": [
    {
     "name": "stdout",
     "output_type": "stream",
     "text": [
      "0.004324449226260185\n"
     ]
    },
    {
     "data": {
      "text/plain": [
       "<__main__.Cleaner at 0x7f798733e6d8>"
      ]
     },
     "execution_count": 43,
     "metadata": {},
     "output_type": "execute_result"
    }
   ],
   "source": [
    "import os\n",
    "import sys\n",
    "import time\n",
    "from threading import Thread\n",
    "\n",
    "#from utils.my_logger import Logger\n",
    "#logger = Logger().getLogger(__name__)\n",
    "\n",
    "class Cleaner(object):\n",
    "    def __init__(self, tempDir):\n",
    "        print(self.get_size(tempDir))\n",
    "    \n",
    "    def get_size(self, target):\n",
    "        m=0\n",
    "        if os.path.isdir(target):\n",
    "            fileList=os.listdir(target)\n",
    "            for filename in fileList:\n",
    "                filePath=os.path.join(target,filename)\n",
    "                m=m+self.get_size(filePath)\n",
    "        else:\n",
    "            m=m+os.path.getsize(target)/(1024**3)\n",
    "        return m\n",
    "#tempDir='/mnt/F/Video/class/cs205/test/黑人开心/video.mp4'\n",
    "tempDir='/home/zhjs/zzx/main/data/temp'\n",
    "Cleaner(tempDir)"
   ]
  },
  {
   "cell_type": "code",
   "execution_count": 67,
   "metadata": {},
   "outputs": [
    {
     "data": {
      "text/plain": [
       "5.55991731349224"
      ]
     },
     "execution_count": 67,
     "metadata": {},
     "output_type": "execute_result"
    }
   ],
   "source": [
    "1.1**18"
   ]
  },
  {
   "cell_type": "code",
   "execution_count": 71,
   "metadata": {},
   "outputs": [],
   "source": [
    "import os\n",
    "target='/home/zhjs/yolov3-spp_person_test1.cfg'\n",
    "if os.path.exists(target):\n",
    "    if os.path.isdir(target):\n",
    "        shutil.rmtree(target)\n",
    "    else:\n",
    "        os.remove(target)"
   ]
  },
  {
   "cell_type": "code",
   "execution_count": null,
   "metadata": {},
   "outputs": [],
   "source": []
  }
 ],
 "metadata": {
  "kernelspec": {
   "display_name": "Python 3",
   "language": "python",
   "name": "python3"
  },
  "language_info": {
   "codemirror_mode": {
    "name": "ipython",
    "version": 3
   },
   "file_extension": ".py",
   "mimetype": "text/x-python",
   "name": "python",
   "nbconvert_exporter": "python",
   "pygments_lexer": "ipython3",
   "version": "3.7.3"
  }
 },
 "nbformat": 4,
 "nbformat_minor": 2
}
